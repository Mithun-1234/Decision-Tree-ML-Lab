{
  "nbformat": 4,
  "nbformat_minor": 0,
  "metadata": {
    "colab": {
      "provenance": []
    },
    "kernelspec": {
      "name": "python3",
      "display_name": "Python 3"
    },
    "language_info": {
      "name": "python"
    }
  },
  "cells": [
    {
      "cell_type": "code",
      "execution_count": 1,
      "metadata": {
        "id": "2aXnWKuKnx86"
      },
      "outputs": [],
      "source": [
        "import pandas as pd\n",
        "import numpy as np\n",
        "import matplotlib.pyplot as plt"
      ]
    },
    {
      "cell_type": "code",
      "source": [
        "df=pd.read_csv(\"/content/bpdata.csv\")\n",
        "df.head()"
      ],
      "metadata": {
        "colab": {
          "base_uri": "https://localhost:8080/",
          "height": 206
        },
        "id": "FLqxUjCqn0GP",
        "outputId": "1b289790-cc1c-435d-f932-3245bddb8581"
      },
      "execution_count": 3,
      "outputs": [
        {
          "output_type": "execute_result",
          "data": {
            "text/plain": [
              "   Unnamed: 0  patient   sex agegrp  bp_before  bp_after\n",
              "0         NaN        1  Male  30-45        143       153\n",
              "1         NaN        2  Male  30-45        163       170\n",
              "2         NaN        3  Male  30-45        153       168\n",
              "3         NaN        4  Male  30-45        153       142\n",
              "4         NaN        5  Male  30-45        146       141"
            ],
            "text/html": [
              "\n",
              "  <div id=\"df-ccb3815f-2ea4-4291-a2a5-16d953930b53\">\n",
              "    <div class=\"colab-df-container\">\n",
              "      <div>\n",
              "<style scoped>\n",
              "    .dataframe tbody tr th:only-of-type {\n",
              "        vertical-align: middle;\n",
              "    }\n",
              "\n",
              "    .dataframe tbody tr th {\n",
              "        vertical-align: top;\n",
              "    }\n",
              "\n",
              "    .dataframe thead th {\n",
              "        text-align: right;\n",
              "    }\n",
              "</style>\n",
              "<table border=\"1\" class=\"dataframe\">\n",
              "  <thead>\n",
              "    <tr style=\"text-align: right;\">\n",
              "      <th></th>\n",
              "      <th>Unnamed: 0</th>\n",
              "      <th>patient</th>\n",
              "      <th>sex</th>\n",
              "      <th>agegrp</th>\n",
              "      <th>bp_before</th>\n",
              "      <th>bp_after</th>\n",
              "    </tr>\n",
              "  </thead>\n",
              "  <tbody>\n",
              "    <tr>\n",
              "      <th>0</th>\n",
              "      <td>NaN</td>\n",
              "      <td>1</td>\n",
              "      <td>Male</td>\n",
              "      <td>30-45</td>\n",
              "      <td>143</td>\n",
              "      <td>153</td>\n",
              "    </tr>\n",
              "    <tr>\n",
              "      <th>1</th>\n",
              "      <td>NaN</td>\n",
              "      <td>2</td>\n",
              "      <td>Male</td>\n",
              "      <td>30-45</td>\n",
              "      <td>163</td>\n",
              "      <td>170</td>\n",
              "    </tr>\n",
              "    <tr>\n",
              "      <th>2</th>\n",
              "      <td>NaN</td>\n",
              "      <td>3</td>\n",
              "      <td>Male</td>\n",
              "      <td>30-45</td>\n",
              "      <td>153</td>\n",
              "      <td>168</td>\n",
              "    </tr>\n",
              "    <tr>\n",
              "      <th>3</th>\n",
              "      <td>NaN</td>\n",
              "      <td>4</td>\n",
              "      <td>Male</td>\n",
              "      <td>30-45</td>\n",
              "      <td>153</td>\n",
              "      <td>142</td>\n",
              "    </tr>\n",
              "    <tr>\n",
              "      <th>4</th>\n",
              "      <td>NaN</td>\n",
              "      <td>5</td>\n",
              "      <td>Male</td>\n",
              "      <td>30-45</td>\n",
              "      <td>146</td>\n",
              "      <td>141</td>\n",
              "    </tr>\n",
              "  </tbody>\n",
              "</table>\n",
              "</div>\n",
              "      <button class=\"colab-df-convert\" onclick=\"convertToInteractive('df-ccb3815f-2ea4-4291-a2a5-16d953930b53')\"\n",
              "              title=\"Convert this dataframe to an interactive table.\"\n",
              "              style=\"display:none;\">\n",
              "        \n",
              "  <svg xmlns=\"http://www.w3.org/2000/svg\" height=\"24px\"viewBox=\"0 0 24 24\"\n",
              "       width=\"24px\">\n",
              "    <path d=\"M0 0h24v24H0V0z\" fill=\"none\"/>\n",
              "    <path d=\"M18.56 5.44l.94 2.06.94-2.06 2.06-.94-2.06-.94-.94-2.06-.94 2.06-2.06.94zm-11 1L8.5 8.5l.94-2.06 2.06-.94-2.06-.94L8.5 2.5l-.94 2.06-2.06.94zm10 10l.94 2.06.94-2.06 2.06-.94-2.06-.94-.94-2.06-.94 2.06-2.06.94z\"/><path d=\"M17.41 7.96l-1.37-1.37c-.4-.4-.92-.59-1.43-.59-.52 0-1.04.2-1.43.59L10.3 9.45l-7.72 7.72c-.78.78-.78 2.05 0 2.83L4 21.41c.39.39.9.59 1.41.59.51 0 1.02-.2 1.41-.59l7.78-7.78 2.81-2.81c.8-.78.8-2.07 0-2.86zM5.41 20L4 18.59l7.72-7.72 1.47 1.35L5.41 20z\"/>\n",
              "  </svg>\n",
              "      </button>\n",
              "      \n",
              "  <style>\n",
              "    .colab-df-container {\n",
              "      display:flex;\n",
              "      flex-wrap:wrap;\n",
              "      gap: 12px;\n",
              "    }\n",
              "\n",
              "    .colab-df-convert {\n",
              "      background-color: #E8F0FE;\n",
              "      border: none;\n",
              "      border-radius: 50%;\n",
              "      cursor: pointer;\n",
              "      display: none;\n",
              "      fill: #1967D2;\n",
              "      height: 32px;\n",
              "      padding: 0 0 0 0;\n",
              "      width: 32px;\n",
              "    }\n",
              "\n",
              "    .colab-df-convert:hover {\n",
              "      background-color: #E2EBFA;\n",
              "      box-shadow: 0px 1px 2px rgba(60, 64, 67, 0.3), 0px 1px 3px 1px rgba(60, 64, 67, 0.15);\n",
              "      fill: #174EA6;\n",
              "    }\n",
              "\n",
              "    [theme=dark] .colab-df-convert {\n",
              "      background-color: #3B4455;\n",
              "      fill: #D2E3FC;\n",
              "    }\n",
              "\n",
              "    [theme=dark] .colab-df-convert:hover {\n",
              "      background-color: #434B5C;\n",
              "      box-shadow: 0px 1px 3px 1px rgba(0, 0, 0, 0.15);\n",
              "      filter: drop-shadow(0px 1px 2px rgba(0, 0, 0, 0.3));\n",
              "      fill: #FFFFFF;\n",
              "    }\n",
              "  </style>\n",
              "\n",
              "      <script>\n",
              "        const buttonEl =\n",
              "          document.querySelector('#df-ccb3815f-2ea4-4291-a2a5-16d953930b53 button.colab-df-convert');\n",
              "        buttonEl.style.display =\n",
              "          google.colab.kernel.accessAllowed ? 'block' : 'none';\n",
              "\n",
              "        async function convertToInteractive(key) {\n",
              "          const element = document.querySelector('#df-ccb3815f-2ea4-4291-a2a5-16d953930b53');\n",
              "          const dataTable =\n",
              "            await google.colab.kernel.invokeFunction('convertToInteractive',\n",
              "                                                     [key], {});\n",
              "          if (!dataTable) return;\n",
              "\n",
              "          const docLinkHtml = 'Like what you see? Visit the ' +\n",
              "            '<a target=\"_blank\" href=https://colab.research.google.com/notebooks/data_table.ipynb>data table notebook</a>'\n",
              "            + ' to learn more about interactive tables.';\n",
              "          element.innerHTML = '';\n",
              "          dataTable['output_type'] = 'display_data';\n",
              "          await google.colab.output.renderOutput(dataTable, element);\n",
              "          const docLink = document.createElement('div');\n",
              "          docLink.innerHTML = docLinkHtml;\n",
              "          element.appendChild(docLink);\n",
              "        }\n",
              "      </script>\n",
              "    </div>\n",
              "  </div>\n",
              "  "
            ]
          },
          "metadata": {},
          "execution_count": 3
        }
      ]
    },
    {
      "cell_type": "code",
      "source": [
        "x =df.iloc[:,[4,5]].values\n",
        "y=df.iloc[:,4].values\n",
        "print(x)"
      ],
      "metadata": {
        "colab": {
          "base_uri": "https://localhost:8080/"
        },
        "id": "dWK_wXkMn0WL",
        "outputId": "7ae3dc04-7610-447b-d006-50c06cbc5d22"
      },
      "execution_count": 4,
      "outputs": [
        {
          "output_type": "stream",
          "name": "stdout",
          "text": [
            "[[143 153]\n",
            " [163 170]\n",
            " [153 168]\n",
            " [153 142]\n",
            " [146 141]\n",
            " [150 147]\n",
            " [148 133]\n",
            " [153 141]\n",
            " [153 131]\n",
            " [158 125]\n",
            " [149 164]\n",
            " [173 159]\n",
            " [165 135]\n",
            " [145 159]\n",
            " [143 153]\n",
            " [152 126]\n",
            " [141 162]\n",
            " [176 134]\n",
            " [143 136]\n",
            " [162 150]\n",
            " [149 168]\n",
            " [156 155]\n",
            " [151 136]\n",
            " [159 132]\n",
            " [164 160]\n",
            " [154 160]\n",
            " [152 136]\n",
            " [142 183]\n",
            " [162 152]\n",
            " [155 162]\n",
            " [175 151]\n",
            " [184 139]\n",
            " [167 175]\n",
            " [148 184]\n",
            " [170 151]\n",
            " [159 171]\n",
            " [149 157]\n",
            " [140 159]\n",
            " [185 140]\n",
            " [160 174]\n",
            " [157 167]\n",
            " [158 158]\n",
            " [162 168]\n",
            " [160 159]\n",
            " [180 153]\n",
            " [155 164]\n",
            " [172 169]\n",
            " [157 148]\n",
            " [171 185]\n",
            " [170 163]\n",
            " [175 146]\n",
            " [175 160]\n",
            " [172 175]\n",
            " [173 163]\n",
            " [170 185]\n",
            " [164 146]\n",
            " [147 176]\n",
            " [154 147]\n",
            " [172 161]\n",
            " [162 164]\n",
            " [152 149]\n",
            " [147 142]\n",
            " [144 146]\n",
            " [144 138]\n",
            " [158 131]\n",
            " [147 145]\n",
            " [154 134]\n",
            " [151 135]\n",
            " [149 131]\n",
            " [138 135]\n",
            " [162 133]\n",
            " [157 135]\n",
            " [141 168]\n",
            " [167 144]\n",
            " [147 147]\n",
            " [143 151]\n",
            " [142 149]\n",
            " [166 147]\n",
            " [147 149]\n",
            " [142 135]\n",
            " [157 127]\n",
            " [170 150]\n",
            " [150 138]\n",
            " [150 147]\n",
            " [167 157]\n",
            " [154 146]\n",
            " [143 148]\n",
            " [157 136]\n",
            " [149 146]\n",
            " [161 132]\n",
            " [142 145]\n",
            " [162 132]\n",
            " [144 157]\n",
            " [142 140]\n",
            " [159 137]\n",
            " [140 154]\n",
            " [144 169]\n",
            " [142 145]\n",
            " [145 137]\n",
            " [145 143]\n",
            " [168 178]\n",
            " [142 141]\n",
            " [147 149]\n",
            " [148 148]\n",
            " [162 138]\n",
            " [170 143]\n",
            " [173 167]\n",
            " [151 158]\n",
            " [155 152]\n",
            " [163 154]\n",
            " [183 161]\n",
            " [159 143]\n",
            " [148 159]\n",
            " [151 177]\n",
            " [165 142]\n",
            " [152 152]\n",
            " [161 152]\n",
            " [165 174]\n",
            " [149 151]\n",
            " [185 163]]\n"
          ]
        }
      ]
    },
    {
      "cell_type": "code",
      "source": [
        "from sklearn.model_selection import train_test_split\n",
        "x_train,x_test,y_train,y_test=train_test_split(x,y,test_size=0.25,random_state=0)\n",
        "print(x_test)\n",
        "print(y_test)"
      ],
      "metadata": {
        "colab": {
          "base_uri": "https://localhost:8080/"
        },
        "id": "7TuF1EIXyV4u",
        "outputId": "74c77434-a5b0-4bcb-84f1-52ac831d3f40"
      },
      "execution_count": 5,
      "outputs": [
        {
          "output_type": "stream",
          "name": "stdout",
          "text": [
            "[[171 185]\n",
            " [159 137]\n",
            " [140 154]\n",
            " [153 131]\n",
            " [142 145]\n",
            " [151 136]\n",
            " [153 141]\n",
            " [149 164]\n",
            " [155 164]\n",
            " [161 132]\n",
            " [148 184]\n",
            " [175 146]\n",
            " [153 168]\n",
            " [152 149]\n",
            " [185 163]\n",
            " [147 147]\n",
            " [175 151]\n",
            " [160 159]\n",
            " [159 143]\n",
            " [142 149]\n",
            " [144 138]\n",
            " [162 164]\n",
            " [141 162]\n",
            " [164 160]\n",
            " [183 161]\n",
            " [145 159]\n",
            " [170 185]\n",
            " [142 140]\n",
            " [152 136]\n",
            " [149 131]]\n",
            "[171 159 140 153 142 151 153 149 155 161 148 175 153 152 185 147 175 160\n",
            " 159 142 144 162 141 164 183 145 170 142 152 149]\n"
          ]
        }
      ]
    },
    {
      "cell_type": "code",
      "source": [
        "from sklearn.preprocessing import StandardScaler\n",
        "st_x=StandardScaler()\n",
        "x_train=st_x.fit_transform(x_train)\n",
        "x_test=st_x.transform(x_test)\n",
        "print(x_train)"
      ],
      "metadata": {
        "colab": {
          "base_uri": "https://localhost:8080/"
        },
        "id": "IX6nyO_dyV8Q",
        "outputId": "83ae42b5-4019-40c1-b8a4-020d9ef17143"
      },
      "execution_count": 6,
      "outputs": [
        {
          "output_type": "stream",
          "name": "stdout",
          "text": [
            "[[ 1.67413608  0.66752623]\n",
            " [-0.50688559  1.91151542]\n",
            " [-0.50688559  0.52117456]\n",
            " [-0.8703892  -0.6496388 ]\n",
            " [-0.32513379 -0.6496388 ]\n",
            " [-1.14301691  1.32610874]\n",
            " [-0.7795133  -1.30822131]\n",
            " [-1.23389281  0.00894371]\n",
            " [ 1.03800476  1.98469125]\n",
            " [ 0.49274934 -1.38139715]\n",
            " [ 0.49274934 -0.94234214]\n",
            " [ 0.94712885  0.44799872]\n",
            " [-1.32476872 -0.4301113 ]\n",
            " [-0.23425788 -1.23504548]\n",
            " [-1.32476872  2.35057042]\n",
            " [-1.23389281 -1.08869381]\n",
            " [-1.05214101 -0.57646296]\n",
            " [ 1.49238427  0.59435039]\n",
            " [-1.14301691 -0.35693546]\n",
            " [ 0.03836983 -1.16186964]\n",
            " [-0.8703892   1.83833958]\n",
            " [-1.05214101 -1.01551797]\n",
            " [-1.23389281 -0.21058379]\n",
            " [ 0.58362524  1.39928457]\n",
            " [ 0.94712885 -0.50328713]\n",
            " [ 0.49274934  1.2529329 ]\n",
            " [ 0.12924573  0.52117456]\n",
            " [-0.96126511 -0.72281463]\n",
            " [-0.41600969 -1.82045215]\n",
            " [ 1.76501198 -1.23504548]\n",
            " [ 1.40150837  1.76516375]\n",
            " [ 0.03836983  1.17975707]\n",
            " [ 2.5828951  -0.79599047]\n",
            " [-0.59776149 -0.28375963]\n",
            " [ 1.49238427  0.88705373]\n",
            " [ 0.58362524  0.22847122]\n",
            " [ 0.76537705 -0.6496388 ]\n",
            " [-1.23389281  0.15529538]\n",
            " [ 1.21975656  0.00894371]\n",
            " [ 0.49274934  0.08211955]\n",
            " [ 0.67450115 -0.35693546]\n",
            " [ 0.22012163  1.47246041]\n",
            " [ 0.22012163 -1.38139715]\n",
            " [ 2.4920192  -0.8691663 ]\n",
            " [-0.8703892  -0.13740796]\n",
            " [-0.23425788 -0.28375963]\n",
            " [-1.14301691  0.44799872]\n",
            " [-0.8703892  -0.13740796]\n",
            " [ 0.94712885  1.76516375]\n",
            " [-1.32476872 -0.72281463]\n",
            " [-1.23389281  0.15529538]\n",
            " [-0.23425788 -0.35693546]\n",
            " [ 0.49274934 -0.06423212]\n",
            " [-0.14338198  0.81387789]\n",
            " [ 1.21975656  0.88705373]\n",
            " [-0.59776149 -0.94234214]\n",
            " [ 0.40187344  0.08211955]\n",
            " [-0.6886374   0.00894371]\n",
            " [-1.32476872 -1.16186964]\n",
            " [-1.68827233 -1.16186964]\n",
            " [ 0.03836983 -1.74727632]\n",
            " [-0.6886374   1.2529329 ]\n",
            " [-0.7795133   0.59435039]\n",
            " [-1.41564462  1.2529329 ]\n",
            " [ 0.85625295 -0.28375963]\n",
            " [-0.23425788  0.66752623]\n",
            " [-1.50652052  0.59435039]\n",
            " [ 1.21975656 -0.06423212]\n",
            " [ 1.21975656 -0.57646296]\n",
            " [ 1.40150837  1.32610874]\n",
            " [-0.14338198  0.08211955]\n",
            " [ 0.31099753  1.69198791]\n",
            " [-0.8703892  -0.4301113 ]\n",
            " [ 1.40150837  0.74070206]\n",
            " [ 0.76537705 -1.16186964]\n",
            " [ 1.49238427  1.17975707]\n",
            " [-0.6886374  -0.35693546]\n",
            " [ 0.49274934 -1.30822131]\n",
            " [ 0.03836983 -1.08869381]\n",
            " [-0.6886374   0.44799872]\n",
            " [-0.05250608  0.30164705]\n",
            " [-0.59776149 -0.28375963]\n",
            " [ 0.12924573 -1.89362799]\n",
            " [-0.7795133  -0.21058379]\n",
            " [-0.41600969  0.08211955]\n",
            " [-0.50688559 -1.16186964]\n",
            " [ 0.12924573 -1.45457298]\n",
            " [ 0.76537705  1.69198791]\n",
            " [ 0.03836983 -0.21058379]\n",
            " [ 2.12851559  0.15529538]]\n"
          ]
        }
      ]
    },
    {
      "cell_type": "code",
      "source": [
        "from sklearn.tree import DecisionTreeClassifier\n",
        "classifier= DecisionTreeClassifier(criterion='gini',random_state=0)\n",
        "classifier.fit(x_train,y_train)\n",
        "y_pred=classifier.predict(x_test)\n",
        "print(y_pred)"
      ],
      "metadata": {
        "colab": {
          "base_uri": "https://localhost:8080/"
        },
        "id": "jAOER8LmyV_M",
        "outputId": "a45660bf-9bd2-4d59-c1d4-8294e4477c54"
      },
      "execution_count": 8,
      "outputs": [
        {
          "output_type": "stream",
          "name": "stdout",
          "text": [
            "[170 159 140 153 142 151 153 149 155 161 148 175 153 152 185 147 175 161\n",
            " 159 142 144 162 141 164 185 145 170 142 152 149]\n"
          ]
        }
      ]
    },
    {
      "cell_type": "code",
      "source": [
        "from sklearn.metrics import confusion_matrix\n",
        "cm=confusion_matrix(y_test,y_pred)\n",
        "print(cm)"
      ],
      "metadata": {
        "colab": {
          "base_uri": "https://localhost:8080/"
        },
        "id": "Ovyh8at1yi7g",
        "outputId": "cb06cdec-2f33-4f7f-c302-85113309b436"
      },
      "execution_count": 9,
      "outputs": [
        {
          "output_type": "stream",
          "name": "stdout",
          "text": [
            "[[1 0 0 0 0 0 0 0 0 0 0 0 0 0 0 0 0 0 0 0 0 0]\n",
            " [0 1 0 0 0 0 0 0 0 0 0 0 0 0 0 0 0 0 0 0 0 0]\n",
            " [0 0 3 0 0 0 0 0 0 0 0 0 0 0 0 0 0 0 0 0 0 0]\n",
            " [0 0 0 1 0 0 0 0 0 0 0 0 0 0 0 0 0 0 0 0 0 0]\n",
            " [0 0 0 0 1 0 0 0 0 0 0 0 0 0 0 0 0 0 0 0 0 0]\n",
            " [0 0 0 0 0 1 0 0 0 0 0 0 0 0 0 0 0 0 0 0 0 0]\n",
            " [0 0 0 0 0 0 1 0 0 0 0 0 0 0 0 0 0 0 0 0 0 0]\n",
            " [0 0 0 0 0 0 0 2 0 0 0 0 0 0 0 0 0 0 0 0 0 0]\n",
            " [0 0 0 0 0 0 0 0 1 0 0 0 0 0 0 0 0 0 0 0 0 0]\n",
            " [0 0 0 0 0 0 0 0 0 2 0 0 0 0 0 0 0 0 0 0 0 0]\n",
            " [0 0 0 0 0 0 0 0 0 0 3 0 0 0 0 0 0 0 0 0 0 0]\n",
            " [0 0 0 0 0 0 0 0 0 0 0 1 0 0 0 0 0 0 0 0 0 0]\n",
            " [0 0 0 0 0 0 0 0 0 0 0 0 2 0 0 0 0 0 0 0 0 0]\n",
            " [0 0 0 0 0 0 0 0 0 0 0 0 0 0 1 0 0 0 0 0 0 0]\n",
            " [0 0 0 0 0 0 0 0 0 0 0 0 0 0 1 0 0 0 0 0 0 0]\n",
            " [0 0 0 0 0 0 0 0 0 0 0 0 0 0 0 1 0 0 0 0 0 0]\n",
            " [0 0 0 0 0 0 0 0 0 0 0 0 0 0 0 0 1 0 0 0 0 0]\n",
            " [0 0 0 0 0 0 0 0 0 0 0 0 0 0 0 0 0 1 0 0 0 0]\n",
            " [0 0 0 0 0 0 0 0 0 0 0 0 0 0 0 0 0 1 0 0 0 0]\n",
            " [0 0 0 0 0 0 0 0 0 0 0 0 0 0 0 0 0 0 0 2 0 0]\n",
            " [0 0 0 0 0 0 0 0 0 0 0 0 0 0 0 0 0 0 0 0 0 1]\n",
            " [0 0 0 0 0 0 0 0 0 0 0 0 0 0 0 0 0 0 0 0 0 1]]\n"
          ]
        }
      ]
    },
    {
      "cell_type": "code",
      "source": [
        "import matplotlib.pyplot as plt\n",
        "y_pred=classifier.predict(x_test)\n",
        "plt.plot(y_pred)\n",
        "plt.show()"
      ],
      "metadata": {
        "colab": {
          "base_uri": "https://localhost:8080/",
          "height": 265
        },
        "id": "tdSsZ05kyo1w",
        "outputId": "5ecbcccc-64b6-4489-8c90-3fd3f8e65e07"
      },
      "execution_count": 10,
      "outputs": [
        {
          "output_type": "display_data",
          "data": {
            "text/plain": [
              "<Figure size 432x288 with 1 Axes>"
            ],
            "image/png": "[encoded data removed]"
          },
          "metadata": {
            "needs_background": "light"
          }
        }
      ]
    },
    {
      "cell_type": "code",
      "source": [
        "import matplotlib.pyplot as plt\n",
        "y_pred=classifier.predict(x_test)\n",
        "plt.plot(y_pred)\n",
        "plt.show()"
      ],
      "metadata": {
        "colab": {
          "base_uri": "https://localhost:8080/",
          "height": 265
        },
        "id": "igWydgf0ysL5",
        "outputId": "d41f5c79-110a-4100-e685-fb79516aec9a"
      },
      "execution_count": 11,
      "outputs": [
        {
          "output_type": "display_data",
          "data": {
            "text/plain": [
              "<Figure size 432x288 with 1 Axes>"
            ],
            "image/png": "[encoded data removed]"
          },
          "metadata": {
            "needs_background": "light"
          }
        }
      ]
    },
    {
      "cell_type": "code",
      "source": [
        "from sklearn import tree\n",
        "x,y=x.data,y.data \n",
        "classifier = tree.DecisionTreeClassifier()\n",
        "classifier = classifier.fit(x, y)\n",
        "tree.plot_tree(classifier)"
      ],
      "metadata": {
        "colab": {
          "base_uri": "https://localhost:8080/",
          "height": 1000
        },
        "id": "TXDBRhswywDa",
        "outputId": "3231e859-339e-467f-da01-c8d876fb818f"
      },
      "execution_count": 12,
      "outputs": [
        {
          "output_type": "execute_result",
          "data": {
            "text/plain": [
              "[Text(0.16977896341463414, 0.9666666666666667, 'X[0] <= 142.5\\ngini = 0.967\\nsamples = 120\\nvalue = [1, 2, 2, 7, 5, 4, 3, 1, 6, 4, 6, 3, 4, 4\\n4, 4, 3, 1, 5, 3, 4, 2, 2, 7, 2, 2, 3, 1\\n3, 1, 5, 1, 3, 3, 3, 1, 1, 1, 1, 2]'),\n",
              " Text(0.0975609756097561, 0.9, 'X[0] <= 141.5\\ngini = 0.597\\nsamples = 12\\nvalue = [1, 2, 2, 7, 0, 0, 0, 0, 0, 0, 0, 0, 0, 0\\n0, 0, 0, 0, 0, 0, 0, 0, 0, 0, 0, 0, 0, 0\\n0, 0, 0, 0, 0, 0, 0, 0, 0, 0, 0, 0]'),\n",
              " Text(0.07317073170731707, 0.8333333333333334, 'X[1] <= 160.5\\ngini = 0.64\\nsamples = 5\\nvalue = [1, 2, 2, 0, 0, 0, 0, 0, 0, 0, 0, 0, 0, 0\\n0, 0, 0, 0, 0, 0, 0, 0, 0, 0, 0, 0, 0, 0\\n0, 0, 0, 0, 0, 0, 0, 0, 0, 0, 0, 0]'),\n",
              " Text(0.04878048780487805, 0.7666666666666667, 'X[0] <= 139.0\\ngini = 0.444\\nsamples = 3\\nvalue = [1, 2, 0, 0, 0, 0, 0, 0, 0, 0, 0, 0, 0, 0\\n0, 0, 0, 0, 0, 0, 0, 0, 0, 0, 0, 0, 0, 0\\n0, 0, 0, 0, 0, 0, 0, 0, 0, 0, 0, 0]'),\n",
              " Text(0.024390243902439025, 0.7, 'gini = 0.0\\nsamples = 1\\nvalue = [1, 0, 0, 0, 0, 0, 0, 0, 0, 0, 0, 0, 0, 0\\n0, 0, 0, 0, 0, 0, 0, 0, 0, 0, 0, 0, 0, 0\\n0, 0, 0, 0, 0, 0, 0, 0, 0, 0, 0, 0]'),\n",
              " Text(0.07317073170731707, 0.7, 'gini = 0.0\\nsamples = 2\\nvalue = [0, 2, 0, 0, 0, 0, 0, 0, 0, 0, 0, 0, 0, 0\\n0, 0, 0, 0, 0, 0, 0, 0, 0, 0, 0, 0, 0, 0\\n0, 0, 0, 0, 0, 0, 0, 0, 0, 0, 0, 0]'),\n",
              " Text(0.0975609756097561, 0.7666666666666667, 'gini = 0.0\\nsamples = 2\\nvalue = [0, 0, 2, 0, 0, 0, 0, 0, 0, 0, 0, 0, 0, 0\\n0, 0, 0, 0, 0, 0, 0, 0, 0, 0, 0, 0, 0, 0\\n0, 0, 0, 0, 0, 0, 0, 0, 0, 0, 0, 0]'),\n",
              " Text(0.12195121951219512, 0.8333333333333334, 'gini = 0.0\\nsamples = 7\\nvalue = [0, 0, 0, 7, 0, 0, 0, 0, 0, 0, 0, 0, 0, 0\\n0, 0, 0, 0, 0, 0, 0, 0, 0, 0, 0, 0, 0, 0\\n0, 0, 0, 0, 0, 0, 0, 0, 0, 0, 0, 0]'),\n",
              " Text(0.2419969512195122, 0.9, 'X[0] <= 143.5\\ngini = 0.964\\nsamples = 108\\nvalue = [0, 0, 0, 0, 5, 4, 3, 1, 6, 4, 6, 3, 4, 4\\n4, 4, 3, 1, 5, 3, 4, 2, 2, 7, 2, 2, 3, 1\\n3, 1, 5, 1, 3, 3, 3, 1, 1, 1, 1, 2]'),\n",
              " Text(0.21760670731707318, 0.8333333333333334, 'gini = 0.0\\nsamples = 5\\nvalue = [0, 0, 0, 0, 5, 0, 0, 0, 0, 0, 0, 0, 0, 0\\n0, 0, 0, 0, 0, 0, 0, 0, 0, 0, 0, 0, 0, 0\\n0, 0, 0, 0, 0, 0, 0, 0, 0, 0, 0, 0]'),\n",
              " Text(0.2663871951219512, 0.8333333333333334, 'X[0] <= 149.5\\ngini = 0.963\\nsamples = 103\\nvalue = [0, 0, 0, 0, 0, 4, 3, 1, 6, 4, 6, 3, 4, 4\\n4, 4, 3, 1, 5, 3, 4, 2, 2, 7, 2, 2, 3, 1\\n3, 1, 5, 1, 3, 3, 3, 1, 1, 1, 1, 2]'),\n",
              " Text(0.14634146341463414, 0.7666666666666667, 'X[0] <= 148.5\\ngini = 0.802\\nsamples = 24\\nvalue = [0, 0, 0, 0, 0, 4, 3, 1, 6, 4, 6, 0, 0, 0\\n0, 0, 0, 0, 0, 0, 0, 0, 0, 0, 0, 0, 0, 0\\n0, 0, 0, 0, 0, 0, 0, 0, 0, 0, 0, 0]'),\n",
              " Text(0.12195121951219512, 0.7, 'X[0] <= 146.5\\ngini = 0.759\\nsamples = 18\\nvalue = [0, 0, 0, 0, 0, 4, 3, 1, 6, 4, 0, 0, 0, 0\\n0, 0, 0, 0, 0, 0, 0, 0, 0, 0, 0, 0, 0, 0\\n0, 0, 0, 0, 0, 0, 0, 0, 0, 0, 0, 0]'),\n",
              " Text(0.07317073170731707, 0.6333333333333333, 'X[0] <= 144.5\\ngini = 0.594\\nsamples = 8\\nvalue = [0, 0, 0, 0, 0, 4, 3, 1, 0, 0, 0, 0, 0, 0\\n0, 0, 0, 0, 0, 0, 0, 0, 0, 0, 0, 0, 0, 0\\n0, 0, 0, 0, 0, 0, 0, 0, 0, 0, 0, 0]'),\n",
              " Text(0.04878048780487805, 0.5666666666666667, 'gini = 0.0\\nsamples = 4\\nvalue = [0, 0, 0, 0, 0, 4, 0, 0, 0, 0, 0, 0, 0, 0\\n0, 0, 0, 0, 0, 0, 0, 0, 0, 0, 0, 0, 0, 0\\n0, 0, 0, 0, 0, 0, 0, 0, 0, 0, 0, 0]'),\n",
              " Text(0.0975609756097561, 0.5666666666666667, 'X[0] <= 145.5\\ngini = 0.375\\nsamples = 4\\nvalue = [0, 0, 0, 0, 0, 0, 3, 1, 0, 0, 0, 0, 0, 0\\n0, 0, 0, 0, 0, 0, 0, 0, 0, 0, 0, 0, 0, 0\\n0, 0, 0, 0, 0, 0, 0, 0, 0, 0, 0, 0]'),\n",
              " Text(0.07317073170731707, 0.5, 'gini = 0.0\\nsamples = 3\\nvalue = [0, 0, 0, 0, 0, 0, 3, 0, 0, 0, 0, 0, 0, 0\\n0, 0, 0, 0, 0, 0, 0, 0, 0, 0, 0, 0, 0, 0\\n0, 0, 0, 0, 0, 0, 0, 0, 0, 0, 0, 0]'),\n",
              " Text(0.12195121951219512, 0.5, 'gini = 0.0\\nsamples = 1\\nvalue = [0, 0, 0, 0, 0, 0, 0, 1, 0, 0, 0, 0, 0, 0\\n0, 0, 0, 0, 0, 0, 0, 0, 0, 0, 0, 0, 0, 0\\n0, 0, 0, 0, 0, 0, 0, 0, 0, 0, 0, 0]'),\n",
              " Text(0.17073170731707318, 0.6333333333333333, 'X[0] <= 147.5\\ngini = 0.48\\nsamples = 10\\nvalue = [0, 0, 0, 0, 0, 0, 0, 0, 6, 4, 0, 0, 0, 0\\n0, 0, 0, 0, 0, 0, 0, 0, 0, 0, 0, 0, 0, 0\\n0, 0, 0, 0, 0, 0, 0, 0, 0, 0, 0, 0]'),\n",
              " Text(0.14634146341463414, 0.5666666666666667, 'gini = 0.0\\nsamples = 6\\nvalue = [0, 0, 0, 0, 0, 0, 0, 0, 6, 0, 0, 0, 0, 0\\n0, 0, 0, 0, 0, 0, 0, 0, 0, 0, 0, 0, 0, 0\\n0, 0, 0, 0, 0, 0, 0, 0, 0, 0, 0, 0]'),\n",
              " Text(0.1951219512195122, 0.5666666666666667, 'gini = 0.0\\nsamples = 4\\nvalue = [0, 0, 0, 0, 0, 0, 0, 0, 0, 4, 0, 0, 0, 0\\n0, 0, 0, 0, 0, 0, 0, 0, 0, 0, 0, 0, 0, 0\\n0, 0, 0, 0, 0, 0, 0, 0, 0, 0, 0, 0]'),\n",
              " Text(0.17073170731707318, 0.7, 'gini = 0.0\\nsamples = 6\\nvalue = [0, 0, 0, 0, 0, 0, 0, 0, 0, 0, 6, 0, 0, 0\\n0, 0, 0, 0, 0, 0, 0, 0, 0, 0, 0, 0, 0, 0\\n0, 0, 0, 0, 0, 0, 0, 0, 0, 0, 0, 0]'),\n",
              " Text(0.3864329268292683, 0.7666666666666667, 'X[0] <= 154.5\\ngini = 0.955\\nsamples = 79\\nvalue = [0, 0, 0, 0, 0, 0, 0, 0, 0, 0, 0, 3, 4, 4\\n4, 4, 3, 1, 5, 3, 4, 2, 2, 7, 2, 2, 3, 1\\n3, 1, 5, 1, 3, 3, 3, 1, 1, 1, 1, 2]'),\n",
              " Text(0.2926829268292683, 0.7, 'X[0] <= 153.5\\ngini = 0.798\\nsamples = 19\\nvalue = [0, 0, 0, 0, 0, 0, 0, 0, 0, 0, 0, 3, 4, 4\\n4, 4, 0, 0, 0, 0, 0, 0, 0, 0, 0, 0, 0, 0\\n0, 0, 0, 0, 0, 0, 0, 0, 0, 0, 0, 0]'),\n",
              " Text(0.2682926829268293, 0.6333333333333333, 'X[0] <= 152.5\\ngini = 0.747\\nsamples = 15\\nvalue = [0, 0, 0, 0, 0, 0, 0, 0, 0, 0, 0, 3, 4, 4\\n4, 0, 0, 0, 0, 0, 0, 0, 0, 0, 0, 0, 0, 0\\n0, 0, 0, 0, 0, 0, 0, 0, 0, 0, 0, 0]'),\n",
              " Text(0.24390243902439024, 0.5666666666666667, 'X[0] <= 151.5\\ngini = 0.661\\nsamples = 11\\nvalue = [0, 0, 0, 0, 0, 0, 0, 0, 0, 0, 0, 3, 4, 4\\n0, 0, 0, 0, 0, 0, 0, 0, 0, 0, 0, 0, 0, 0\\n0, 0, 0, 0, 0, 0, 0, 0, 0, 0, 0, 0]'),\n",
              " Text(0.21951219512195122, 0.5, 'X[0] <= 150.5\\ngini = 0.49\\nsamples = 7\\nvalue = [0, 0, 0, 0, 0, 0, 0, 0, 0, 0, 0, 3, 4, 0\\n0, 0, 0, 0, 0, 0, 0, 0, 0, 0, 0, 0, 0, 0\\n0, 0, 0, 0, 0, 0, 0, 0, 0, 0, 0, 0]'),\n",
              " Text(0.1951219512195122, 0.43333333333333335, 'gini = 0.0\\nsamples = 3\\nvalue = [0, 0, 0, 0, 0, 0, 0, 0, 0, 0, 0, 3, 0, 0\\n0, 0, 0, 0, 0, 0, 0, 0, 0, 0, 0, 0, 0, 0\\n0, 0, 0, 0, 0, 0, 0, 0, 0, 0, 0, 0]'),\n",
              " Text(0.24390243902439024, 0.43333333333333335, 'gini = 0.0\\nsamples = 4\\nvalue = [0, 0, 0, 0, 0, 0, 0, 0, 0, 0, 0, 0, 4, 0\\n0, 0, 0, 0, 0, 0, 0, 0, 0, 0, 0, 0, 0, 0\\n0, 0, 0, 0, 0, 0, 0, 0, 0, 0, 0, 0]'),\n",
              " Text(0.2682926829268293, 0.5, 'gini = 0.0\\nsamples = 4\\nvalue = [0, 0, 0, 0, 0, 0, 0, 0, 0, 0, 0, 0, 0, 4\\n0, 0, 0, 0, 0, 0, 0, 0, 0, 0, 0, 0, 0, 0\\n0, 0, 0, 0, 0, 0, 0, 0, 0, 0, 0, 0]'),\n",
              " Text(0.2926829268292683, 0.5666666666666667, 'gini = 0.0\\nsamples = 4\\nvalue = [0, 0, 0, 0, 0, 0, 0, 0, 0, 0, 0, 0, 0, 0\\n4, 0, 0, 0, 0, 0, 0, 0, 0, 0, 0, 0, 0, 0\\n0, 0, 0, 0, 0, 0, 0, 0, 0, 0, 0, 0]'),\n",
              " Text(0.3170731707317073, 0.6333333333333333, 'gini = 0.0\\nsamples = 4\\nvalue = [0, 0, 0, 0, 0, 0, 0, 0, 0, 0, 0, 0, 0, 0\\n0, 4, 0, 0, 0, 0, 0, 0, 0, 0, 0, 0, 0, 0\\n0, 0, 0, 0, 0, 0, 0, 0, 0, 0, 0, 0]'),\n",
              " Text(0.4801829268292683, 0.7, 'X[0] <= 157.5\\ngini = 0.943\\nsamples = 60\\nvalue = [0, 0, 0, 0, 0, 0, 0, 0, 0, 0, 0, 0, 0, 0\\n0, 0, 3, 1, 5, 3, 4, 2, 2, 7, 2, 2, 3, 1\\n3, 1, 5, 1, 3, 3, 3, 1, 1, 1, 1, 2]'),\n",
              " Text(0.36585365853658536, 0.6333333333333333, 'X[0] <= 156.5\\ngini = 0.568\\nsamples = 9\\nvalue = [0, 0, 0, 0, 0, 0, 0, 0, 0, 0, 0, 0, 0, 0\\n0, 0, 3, 1, 5, 0, 0, 0, 0, 0, 0, 0, 0, 0\\n0, 0, 0, 0, 0, 0, 0, 0, 0, 0, 0, 0]'),\n",
              " Text(0.34146341463414637, 0.5666666666666667, 'X[0] <= 155.5\\ngini = 0.375\\nsamples = 4\\nvalue = [0, 0, 0, 0, 0, 0, 0, 0, 0, 0, 0, 0, 0, 0\\n0, 0, 3, 1, 0, 0, 0, 0, 0, 0, 0, 0, 0, 0\\n0, 0, 0, 0, 0, 0, 0, 0, 0, 0, 0, 0]'),\n",
              " Text(0.3170731707317073, 0.5, 'gini = 0.0\\nsamples = 3\\nvalue = [0, 0, 0, 0, 0, 0, 0, 0, 0, 0, 0, 0, 0, 0\\n0, 0, 3, 0, 0, 0, 0, 0, 0, 0, 0, 0, 0, 0\\n0, 0, 0, 0, 0, 0, 0, 0, 0, 0, 0, 0]'),\n",
              " Text(0.36585365853658536, 0.5, 'gini = 0.0\\nsamples = 1\\nvalue = [0, 0, 0, 0, 0, 0, 0, 0, 0, 0, 0, 0, 0, 0\\n0, 0, 0, 1, 0, 0, 0, 0, 0, 0, 0, 0, 0, 0\\n0, 0, 0, 0, 0, 0, 0, 0, 0, 0, 0, 0]'),\n",
              " Text(0.3902439024390244, 0.5666666666666667, 'gini = 0.0\\nsamples = 5\\nvalue = [0, 0, 0, 0, 0, 0, 0, 0, 0, 0, 0, 0, 0, 0\\n0, 0, 0, 0, 5, 0, 0, 0, 0, 0, 0, 0, 0, 0\\n0, 0, 0, 0, 0, 0, 0, 0, 0, 0, 0, 0]'),\n",
              " Text(0.5945121951219512, 0.6333333333333333, 'X[0] <= 162.5\\ngini = 0.934\\nsamples = 51\\nvalue = [0, 0, 0, 0, 0, 0, 0, 0, 0, 0, 0, 0, 0, 0\\n0, 0, 0, 0, 0, 3, 4, 2, 2, 7, 2, 2, 3, 1\\n3, 1, 5, 1, 3, 3, 3, 1, 1, 1, 1, 2]'),\n",
              " Text(0.43902439024390244, 0.5666666666666667, 'X[0] <= 161.5\\ngini = 0.747\\nsamples = 18\\nvalue = [0, 0, 0, 0, 0, 0, 0, 0, 0, 0, 0, 0, 0, 0\\n0, 0, 0, 0, 0, 3, 4, 2, 2, 7, 0, 0, 0, 0\\n0, 0, 0, 0, 0, 0, 0, 0, 0, 0, 0, 0]'),\n",
              " Text(0.4146341463414634, 0.5, 'X[0] <= 158.5\\ngini = 0.727\\nsamples = 11\\nvalue = [0, 0, 0, 0, 0, 0, 0, 0, 0, 0, 0, 0, 0, 0\\n0, 0, 0, 0, 0, 3, 4, 2, 2, 0, 0, 0, 0, 0\\n0, 0, 0, 0, 0, 0, 0, 0, 0, 0, 0, 0]'),\n",
              " Text(0.3902439024390244, 0.43333333333333335, 'gini = 0.0\\nsamples = 3\\nvalue = [0, 0, 0, 0, 0, 0, 0, 0, 0, 0, 0, 0, 0, 0\\n0, 0, 0, 0, 0, 3, 0, 0, 0, 0, 0, 0, 0, 0\\n0, 0, 0, 0, 0, 0, 0, 0, 0, 0, 0, 0]'),\n",
              " Text(0.43902439024390244, 0.43333333333333335, 'X[0] <= 159.5\\ngini = 0.625\\nsamples = 8\\nvalue = [0, 0, 0, 0, 0, 0, 0, 0, 0, 0, 0, 0, 0, 0\\n0, 0, 0, 0, 0, 0, 4, 2, 2, 0, 0, 0, 0, 0\\n0, 0, 0, 0, 0, 0, 0, 0, 0, 0, 0, 0]'),\n",
              " Text(0.4146341463414634, 0.36666666666666664, 'gini = 0.0\\nsamples = 4\\nvalue = [0, 0, 0, 0, 0, 0, 0, 0, 0, 0, 0, 0, 0, 0\\n0, 0, 0, 0, 0, 0, 4, 0, 0, 0, 0, 0, 0, 0\\n0, 0, 0, 0, 0, 0, 0, 0, 0, 0, 0, 0]'),\n",
              " Text(0.4634146341463415, 0.36666666666666664, 'X[1] <= 155.5\\ngini = 0.5\\nsamples = 4\\nvalue = [0, 0, 0, 0, 0, 0, 0, 0, 0, 0, 0, 0, 0, 0\\n0, 0, 0, 0, 0, 0, 0, 2, 2, 0, 0, 0, 0, 0\\n0, 0, 0, 0, 0, 0, 0, 0, 0, 0, 0, 0]'),\n",
              " Text(0.43902439024390244, 0.3, 'gini = 0.0\\nsamples = 2\\nvalue = [0, 0, 0, 0, 0, 0, 0, 0, 0, 0, 0, 0, 0, 0\\n0, 0, 0, 0, 0, 0, 0, 0, 2, 0, 0, 0, 0, 0\\n0, 0, 0, 0, 0, 0, 0, 0, 0, 0, 0, 0]'),\n",
              " Text(0.4878048780487805, 0.3, 'gini = 0.0\\nsamples = 2\\nvalue = [0, 0, 0, 0, 0, 0, 0, 0, 0, 0, 0, 0, 0, 0\\n0, 0, 0, 0, 0, 0, 0, 2, 0, 0, 0, 0, 0, 0\\n0, 0, 0, 0, 0, 0, 0, 0, 0, 0, 0, 0]'),\n",
              " Text(0.4634146341463415, 0.5, 'gini = 0.0\\nsamples = 7\\nvalue = [0, 0, 0, 0, 0, 0, 0, 0, 0, 0, 0, 0, 0, 0\\n0, 0, 0, 0, 0, 0, 0, 0, 0, 7, 0, 0, 0, 0\\n0, 0, 0, 0, 0, 0, 0, 0, 0, 0, 0, 0]'),\n",
              " Text(0.75, 0.5666666666666667, 'X[0] <= 170.5\\ngini = 0.918\\nsamples = 33\\nvalue = [0, 0, 0, 0, 0, 0, 0, 0, 0, 0, 0, 0, 0, 0\\n0, 0, 0, 0, 0, 0, 0, 0, 0, 0, 2, 2, 3, 1\\n3, 1, 5, 1, 3, 3, 3, 1, 1, 1, 1, 2]'),\n",
              " Text(0.6707317073170732, 0.5, 'X[0] <= 169.0\\ngini = 0.817\\nsamples = 17\\nvalue = [0, 0, 0, 0, 0, 0, 0, 0, 0, 0, 0, 0, 0, 0\\n0, 0, 0, 0, 0, 0, 0, 0, 0, 0, 2, 2, 3, 1\\n3, 1, 5, 0, 0, 0, 0, 0, 0, 0, 0, 0]'),\n",
              " Text(0.6463414634146342, 0.43333333333333335, 'X[0] <= 166.5\\ngini = 0.806\\nsamples = 12\\nvalue = [0, 0, 0, 0, 0, 0, 0, 0, 0, 0, 0, 0, 0, 0\\n0, 0, 0, 0, 0, 0, 0, 0, 0, 0, 2, 2, 3, 1\\n3, 1, 0, 0, 0, 0, 0, 0, 0, 0, 0, 0]'),\n",
              " Text(0.5853658536585366, 0.36666666666666664, 'X[0] <= 164.5\\ngini = 0.719\\nsamples = 8\\nvalue = [0, 0, 0, 0, 0, 0, 0, 0, 0, 0, 0, 0, 0, 0\\n0, 0, 0, 0, 0, 0, 0, 0, 0, 0, 2, 2, 3, 1\\n0, 0, 0, 0, 0, 0, 0, 0, 0, 0, 0, 0]'),\n",
              " Text(0.5365853658536586, 0.3, 'X[0] <= 163.5\\ngini = 0.5\\nsamples = 4\\nvalue = [0, 0, 0, 0, 0, 0, 0, 0, 0, 0, 0, 0, 0, 0\\n0, 0, 0, 0, 0, 0, 0, 0, 0, 0, 2, 2, 0, 0\\n0, 0, 0, 0, 0, 0, 0, 0, 0, 0, 0, 0]'),\n",
              " Text(0.5121951219512195, 0.23333333333333334, 'gini = 0.0\\nsamples = 2\\nvalue = [0, 0, 0, 0, 0, 0, 0, 0, 0, 0, 0, 0, 0, 0\\n0, 0, 0, 0, 0, 0, 0, 0, 0, 0, 2, 0, 0, 0\\n0, 0, 0, 0, 0, 0, 0, 0, 0, 0, 0, 0]'),\n",
              " Text(0.5609756097560976, 0.23333333333333334, 'gini = 0.0\\nsamples = 2\\nvalue = [0, 0, 0, 0, 0, 0, 0, 0, 0, 0, 0, 0, 0, 0\\n0, 0, 0, 0, 0, 0, 0, 0, 0, 0, 0, 2, 0, 0\\n0, 0, 0, 0, 0, 0, 0, 0, 0, 0, 0, 0]'),\n",
              " Text(0.6341463414634146, 0.3, 'X[0] <= 165.5\\ngini = 0.375\\nsamples = 4\\nvalue = [0, 0, 0, 0, 0, 0, 0, 0, 0, 0, 0, 0, 0, 0\\n0, 0, 0, 0, 0, 0, 0, 0, 0, 0, 0, 0, 3, 1\\n0, 0, 0, 0, 0, 0, 0, 0, 0, 0, 0, 0]'),\n",
              " Text(0.6097560975609756, 0.23333333333333334, 'gini = 0.0\\nsamples = 3\\nvalue = [0, 0, 0, 0, 0, 0, 0, 0, 0, 0, 0, 0, 0, 0\\n0, 0, 0, 0, 0, 0, 0, 0, 0, 0, 0, 0, 3, 0\\n0, 0, 0, 0, 0, 0, 0, 0, 0, 0, 0, 0]'),\n",
              " Text(0.6585365853658537, 0.23333333333333334, 'gini = 0.0\\nsamples = 1\\nvalue = [0, 0, 0, 0, 0, 0, 0, 0, 0, 0, 0, 0, 0, 0\\n0, 0, 0, 0, 0, 0, 0, 0, 0, 0, 0, 0, 0, 1\\n0, 0, 0, 0, 0, 0, 0, 0, 0, 0, 0, 0]'),\n",
              " Text(0.7073170731707317, 0.36666666666666664, 'X[1] <= 176.5\\ngini = 0.375\\nsamples = 4\\nvalue = [0, 0, 0, 0, 0, 0, 0, 0, 0, 0, 0, 0, 0, 0\\n0, 0, 0, 0, 0, 0, 0, 0, 0, 0, 0, 0, 0, 0\\n3, 1, 0, 0, 0, 0, 0, 0, 0, 0, 0, 0]'),\n",
              " Text(0.6829268292682927, 0.3, 'gini = 0.0\\nsamples = 3\\nvalue = [0, 0, 0, 0, 0, 0, 0, 0, 0, 0, 0, 0, 0, 0\\n0, 0, 0, 0, 0, 0, 0, 0, 0, 0, 0, 0, 0, 0\\n3, 0, 0, 0, 0, 0, 0, 0, 0, 0, 0, 0]'),\n",
              " Text(0.7317073170731707, 0.3, 'gini = 0.0\\nsamples = 1\\nvalue = [0, 0, 0, 0, 0, 0, 0, 0, 0, 0, 0, 0, 0, 0\\n0, 0, 0, 0, 0, 0, 0, 0, 0, 0, 0, 0, 0, 0\\n0, 1, 0, 0, 0, 0, 0, 0, 0, 0, 0, 0]'),\n",
              " Text(0.6951219512195121, 0.43333333333333335, 'gini = 0.0\\nsamples = 5\\nvalue = [0, 0, 0, 0, 0, 0, 0, 0, 0, 0, 0, 0, 0, 0\\n0, 0, 0, 0, 0, 0, 0, 0, 0, 0, 0, 0, 0, 0\\n0, 0, 5, 0, 0, 0, 0, 0, 0, 0, 0, 0]'),\n",
              " Text(0.8292682926829268, 0.5, 'X[0] <= 172.5\\ngini = 0.859\\nsamples = 16\\nvalue = [0, 0, 0, 0, 0, 0, 0, 0, 0, 0, 0, 0, 0, 0\\n0, 0, 0, 0, 0, 0, 0, 0, 0, 0, 0, 0, 0, 0\\n0, 0, 0, 1, 3, 3, 3, 1, 1, 1, 1, 2]'),\n",
              " Text(0.7804878048780488, 0.43333333333333335, 'X[1] <= 180.0\\ngini = 0.375\\nsamples = 4\\nvalue = [0, 0, 0, 0, 0, 0, 0, 0, 0, 0, 0, 0, 0, 0\\n0, 0, 0, 0, 0, 0, 0, 0, 0, 0, 0, 0, 0, 0\\n0, 0, 0, 1, 3, 0, 0, 0, 0, 0, 0, 0]'),\n",
              " Text(0.7560975609756098, 0.36666666666666664, 'gini = 0.0\\nsamples = 3\\nvalue = [0, 0, 0, 0, 0, 0, 0, 0, 0, 0, 0, 0, 0, 0\\n0, 0, 0, 0, 0, 0, 0, 0, 0, 0, 0, 0, 0, 0\\n0, 0, 0, 0, 3, 0, 0, 0, 0, 0, 0, 0]'),\n",
              " Text(0.8048780487804879, 0.36666666666666664, 'gini = 0.0\\nsamples = 1\\nvalue = [0, 0, 0, 0, 0, 0, 0, 0, 0, 0, 0, 0, 0, 0\\n0, 0, 0, 0, 0, 0, 0, 0, 0, 0, 0, 0, 0, 0\\n0, 0, 0, 1, 0, 0, 0, 0, 0, 0, 0, 0]'),\n",
              " Text(0.8780487804878049, 0.43333333333333335, 'X[0] <= 174.0\\ngini = 0.819\\nsamples = 12\\nvalue = [0, 0, 0, 0, 0, 0, 0, 0, 0, 0, 0, 0, 0, 0\\n0, 0, 0, 0, 0, 0, 0, 0, 0, 0, 0, 0, 0, 0\\n0, 0, 0, 0, 0, 3, 3, 1, 1, 1, 1, 2]'),\n",
              " Text(0.8536585365853658, 0.36666666666666664, 'gini = 0.0\\nsamples = 3\\nvalue = [0, 0, 0, 0, 0, 0, 0, 0, 0, 0, 0, 0, 0, 0\\n0, 0, 0, 0, 0, 0, 0, 0, 0, 0, 0, 0, 0, 0\\n0, 0, 0, 0, 0, 3, 0, 0, 0, 0, 0, 0]'),\n",
              " Text(0.9024390243902439, 0.36666666666666664, 'X[0] <= 175.5\\ngini = 0.79\\nsamples = 9\\nvalue = [0, 0, 0, 0, 0, 0, 0, 0, 0, 0, 0, 0, 0, 0\\n0, 0, 0, 0, 0, 0, 0, 0, 0, 0, 0, 0, 0, 0\\n0, 0, 0, 0, 0, 0, 3, 1, 1, 1, 1, 2]'),\n",
              " Text(0.8780487804878049, 0.3, 'gini = 0.0\\nsamples = 3\\nvalue = [0, 0, 0, 0, 0, 0, 0, 0, 0, 0, 0, 0, 0, 0\\n0, 0, 0, 0, 0, 0, 0, 0, 0, 0, 0, 0, 0, 0\\n0, 0, 0, 0, 0, 0, 3, 0, 0, 0, 0, 0]'),\n",
              " Text(0.926829268292683, 0.3, 'X[0] <= 184.5\\ngini = 0.778\\nsamples = 6\\nvalue = [0, 0, 0, 0, 0, 0, 0, 0, 0, 0, 0, 0, 0, 0\\n0, 0, 0, 0, 0, 0, 0, 0, 0, 0, 0, 0, 0, 0\\n0, 0, 0, 0, 0, 0, 0, 1, 1, 1, 1, 2]'),\n",
              " Text(0.9024390243902439, 0.23333333333333334, 'X[0] <= 178.0\\ngini = 0.75\\nsamples = 4\\nvalue = [0, 0, 0, 0, 0, 0, 0, 0, 0, 0, 0, 0, 0, 0\\n0, 0, 0, 0, 0, 0, 0, 0, 0, 0, 0, 0, 0, 0\\n0, 0, 0, 0, 0, 0, 0, 1, 1, 1, 1, 0]'),\n",
              " Text(0.8780487804878049, 0.16666666666666666, 'gini = 0.0\\nsamples = 1\\nvalue = [0, 0, 0, 0, 0, 0, 0, 0, 0, 0, 0, 0, 0, 0\\n0, 0, 0, 0, 0, 0, 0, 0, 0, 0, 0, 0, 0, 0\\n0, 0, 0, 0, 0, 0, 0, 1, 0, 0, 0, 0]'),\n",
              " Text(0.926829268292683, 0.16666666666666666, 'X[1] <= 146.0\\ngini = 0.667\\nsamples = 3\\nvalue = [0, 0, 0, 0, 0, 0, 0, 0, 0, 0, 0, 0, 0, 0\\n0, 0, 0, 0, 0, 0, 0, 0, 0, 0, 0, 0, 0, 0\\n0, 0, 0, 0, 0, 0, 0, 0, 1, 1, 1, 0]'),\n",
              " Text(0.9024390243902439, 0.1, 'gini = 0.0\\nsamples = 1\\nvalue = [0, 0, 0, 0, 0, 0, 0, 0, 0, 0, 0, 0, 0, 0\\n0, 0, 0, 0, 0, 0, 0, 0, 0, 0, 0, 0, 0, 0\\n0, 0, 0, 0, 0, 0, 0, 0, 0, 0, 1, 0]'),\n",
              " Text(0.9512195121951219, 0.1, 'X[1] <= 157.0\\ngini = 0.5\\nsamples = 2\\nvalue = [0, 0, 0, 0, 0, 0, 0, 0, 0, 0, 0, 0, 0, 0\\n0, 0, 0, 0, 0, 0, 0, 0, 0, 0, 0, 0, 0, 0\\n0, 0, 0, 0, 0, 0, 0, 0, 1, 1, 0, 0]'),\n",
              " Text(0.926829268292683, 0.03333333333333333, 'gini = 0.0\\nsamples = 1\\nvalue = [0, 0, 0, 0, 0, 0, 0, 0, 0, 0, 0, 0, 0, 0\\n0, 0, 0, 0, 0, 0, 0, 0, 0, 0, 0, 0, 0, 0\\n0, 0, 0, 0, 0, 0, 0, 0, 1, 0, 0, 0]'),\n",
              " Text(0.975609756097561, 0.03333333333333333, 'gini = 0.0\\nsamples = 1\\nvalue = [0, 0, 0, 0, 0, 0, 0, 0, 0, 0, 0, 0, 0, 0\\n0, 0, 0, 0, 0, 0, 0, 0, 0, 0, 0, 0, 0, 0\\n0, 0, 0, 0, 0, 0, 0, 0, 0, 1, 0, 0]'),\n",
              " Text(0.9512195121951219, 0.23333333333333334, 'gini = 0.0\\nsamples = 2\\nvalue = [0, 0, 0, 0, 0, 0, 0, 0, 0, 0, 0, 0, 0, 0\\n0, 0, 0, 0, 0, 0, 0, 0, 0, 0, 0, 0, 0, 0\\n0, 0, 0, 0, 0, 0, 0, 0, 0, 0, 0, 2]')]"
            ]
          },
          "metadata": {},
          "execution_count": 12
        },
        {
          "output_type": "display_data",
          "data": {
            "text/plain": [
              "<Figure size 432x288 with 1 Axes>"
            ],
            "image/png": "[encoded data removed]"
          },
          "metadata": {
            "needs_background": "light"
          }
        }
      ]
    }
  ]
}